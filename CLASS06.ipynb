{
 "cells": [
  {
   "cell_type": "code",
   "execution_count": 1,
   "id": "57d0b6f6-f432-4a19-b0c1-ca7bbd575158",
   "metadata": {},
   "outputs": [
    {
     "name": "stdout",
     "output_type": "stream",
     "text": [
      "Requirement already satisfied: numpy in c:\\users\\saad communication\\anaconda3\\lib\\site-packages (1.26.4)\n",
      "Note: you may need to restart the kernel to use updated packages.\n"
     ]
    }
   ],
   "source": [
    "pip install numpy"
   ]
  },
  {
   "cell_type": "code",
   "execution_count": 1,
   "id": "572dd69b-dd49-4869-adfe-573d4912275e",
   "metadata": {},
   "outputs": [
    {
     "name": "stdout",
     "output_type": "stream",
     "text": [
      "1\n",
      "2\n",
      "3\n",
      "4\n",
      "5\n",
      "6\n",
      "7\n",
      "8\n",
      "9\n",
      "0\n"
     ]
    }
   ],
   "source": [
    "import numpy as np\n",
    "\n",
    "# 1-D\n",
    "np1 = np.array([1,2,3,4,5,6,7,8,9,0])\n",
    "for x in np1:\n",
    "    print(x)"
   ]
  },
  {
   "cell_type": "code",
   "execution_count": 9,
   "id": "df7570fe-5157-4ed6-9e69-f8fa834fc74d",
   "metadata": {},
   "outputs": [
    {
     "name": "stdout",
     "output_type": "stream",
     "text": [
      "1\n",
      "2\n",
      "3\n",
      "4\n",
      "5\n",
      "6\n",
      "7\n",
      "8\n",
      "9\n",
      "0\n"
     ]
    }
   ],
   "source": [
    "# 2-D\n",
    "np2 = np.array([[1,2,3,4,5],[6,7,8,9,0]])\n",
    "for x in np2:\n",
    "    #print(x) #for rows\n",
    "    for y in x:\n",
    "        print(y) #for column"
   ]
  },
  {
   "cell_type": "code",
   "execution_count": 19,
   "id": "c105f3a9-0b2a-4e33-9335-8561f242f5ab",
   "metadata": {},
   "outputs": [
    {
     "name": "stdout",
     "output_type": "stream",
     "text": [
      "1\n",
      "2\n",
      "3\n",
      "4\n",
      "5\n",
      "6\n",
      "7\n",
      "8\n",
      "9\n"
     ]
    }
   ],
   "source": [
    "# 3-D\n",
    "np3 = np.array([[[1,2,3],[4,5,6],[7,8,9]]])\n",
    "for x in np3:\n",
    "    #print(x)\n",
    "    for y in x:\n",
    "        #print(y)\n",
    "        for z in y:\n",
    "            print(z)"
   ]
  },
  {
   "cell_type": "code",
   "execution_count": null,
   "id": "dea369be-cec8-48d8-b1cd-8fc3739ef32a",
   "metadata": {},
   "outputs": [],
   "source": [
    "# Use np.nditer()\n"
   ]
  }
 ],
 "metadata": {
  "kernelspec": {
   "display_name": "Python 3 (ipykernel)",
   "language": "python",
   "name": "python3"
  },
  "language_info": {
   "codemirror_mode": {
    "name": "ipython",
    "version": 3
   },
   "file_extension": ".py",
   "mimetype": "text/x-python",
   "name": "python",
   "nbconvert_exporter": "python",
   "pygments_lexer": "ipython3",
   "version": "3.12.4"
  }
 },
 "nbformat": 4,
 "nbformat_minor": 5
}
