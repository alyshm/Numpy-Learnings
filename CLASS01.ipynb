{
 "cells": [
  {
   "cell_type": "code",
   "execution_count": 9,
   "id": "d98b303d-3aa8-4fca-8ffd-6befeae50531",
   "metadata": {},
   "outputs": [
    {
     "name": "stdout",
     "output_type": "stream",
     "text": [
      "[1, 2, 3, 4, 5]\n"
     ]
    }
   ],
   "source": [
    "#Lists\n",
    "\n",
    "list1 = [1, 2, 3, 4, 5]\n",
    "print (list1)"
   ]
  },
  {
   "cell_type": "code",
   "execution_count": 11,
   "id": "7b5f6811-7a05-4a8e-ad95-b788ccb5e363",
   "metadata": {},
   "outputs": [
    {
     "name": "stdout",
     "output_type": "stream",
     "text": [
      "Requirement already satisfied: numpy in c:\\users\\saad communication\\anaconda3\\lib\\site-packages (1.26.4)\n",
      "Note: you may need to restart the kernel to use updated packages.\n"
     ]
    }
   ],
   "source": [
    "#installing numpy\n",
    "\n",
    "pip install numpy"
   ]
  },
  {
   "cell_type": "code",
   "execution_count": 41,
   "id": "455ce8ad-d162-4792-a489-3d3608df18b8",
   "metadata": {},
   "outputs": [
    {
     "name": "stdout",
     "output_type": "stream",
     "text": [
      "[1 2 3 4 5]\n",
      "(5,)\n",
      "[0 1 2 3 4 5 6 7 8 9]\n",
      "[0 2 4 6 8]\n",
      "[0. 0. 0. 0. 0. 0. 0. 0. 0. 0.]\n"
     ]
    }
   ],
   "source": [
    "# numpy - NUMERIC PYTHON\n",
    "# ndarray - ndimensional array\n",
    "\n",
    "import numpy as np\n",
    "\n",
    "np1 = np.array([1, 2, 3, 4, 5])\n",
    "print(np1)\n",
    "\n",
    "# print the length of array (shape function)\n",
    "print(np1.shape)\n",
    "\n",
    "# print the number within the range (arange function)\n",
    "np2 = np.arange(10)\n",
    "print(np2)\n",
    "\n",
    "# print the number within the range with the steps also (2nd part of arange function)\n",
    "np3 = np.arange(0, 10, 2)\n",
    "print(np3)\n",
    "\n",
    "# print the zeros (zeros function)\n",
    "np4 = np.zeros(10)\n",
    "print(np4)"
   ]
  },
  {
   "cell_type": "code",
   "execution_count": 43,
   "id": "3fd4326d-9719-47bf-9074-441aede3e8d3",
   "metadata": {},
   "outputs": [
    {
     "name": "stdout",
     "output_type": "stream",
     "text": [
      "[[0. 0. 0. 0. 0. 0. 0. 0. 0. 0.]\n",
      " [0. 0. 0. 0. 0. 0. 0. 0. 0. 0.]]\n",
      "[5 5 5 5 5 5 5 5 5 5]\n",
      "[[6 6 6 6 6 6 6 6 6 6]\n",
      " [6 6 6 6 6 6 6 6 6 6]]\n"
     ]
    }
   ],
   "source": [
    "# MULTIDIMENSIONAL ARRAYS\n",
    "np5 = np.zeros((2, 10))\n",
    "print(np5)\n",
    "\n",
    "# full function\n",
    "np6 = np.full((10), 5)\n",
    "print(np6)\n",
    "\n",
    "# MULTIDIMENSIONAL FULL FUNCTION ARRAY\n",
    "np6 = np.full((2,10), 6)\n",
    "print(np6)"
   ]
  },
  {
   "cell_type": "code",
   "execution_count": 49,
   "id": "8f7152d3-a3c2-4271-8525-12e0dac6a5e2",
   "metadata": {},
   "outputs": [
    {
     "name": "stdout",
     "output_type": "stream",
     "text": [
      "[1 2 3 4 5]\n",
      "2\n"
     ]
    }
   ],
   "source": [
    "# Convert python lists into numpy\n",
    "my_list = [1, 2, 3, 4, 5]\n",
    "np8 = np.array(my_list)\n",
    "print(np8)\n",
    "\n",
    "#Grabbing items in numpy array\n",
    "print(np8[1])"
   ]
  },
  {
   "cell_type": "code",
   "execution_count": null,
   "id": "2c5faa53-be23-44b9-8637-46decafbd40f",
   "metadata": {},
   "outputs": [],
   "source": []
  }
 ],
 "metadata": {
  "kernelspec": {
   "display_name": "Python 3 (ipykernel)",
   "language": "python",
   "name": "python3"
  },
  "language_info": {
   "codemirror_mode": {
    "name": "ipython",
    "version": 3
   },
   "file_extension": ".py",
   "mimetype": "text/x-python",
   "name": "python",
   "nbconvert_exporter": "python",
   "pygments_lexer": "ipython3",
   "version": "3.12.4"
  }
 },
 "nbformat": 4,
 "nbformat_minor": 5
}
