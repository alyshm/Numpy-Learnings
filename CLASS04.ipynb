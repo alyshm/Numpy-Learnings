{
 "cells": [
  {
   "cell_type": "code",
   "execution_count": 1,
   "id": "75cfae6f-5f0e-4a87-8f73-105efbf4611d",
   "metadata": {},
   "outputs": [
    {
     "name": "stdout",
     "output_type": "stream",
     "text": [
      "Requirement already satisfied: numpy in c:\\users\\saad communication\\anaconda3\\lib\\site-packages (1.26.4)\n",
      "Note: you may need to restart the kernel to use updated packages.\n"
     ]
    }
   ],
   "source": [
    "pip install numpy"
   ]
  },
  {
   "cell_type": "code",
   "execution_count": 5,
   "id": "940aabf1-82fd-45be-9659-2db73ce6f812",
   "metadata": {},
   "outputs": [
    {
     "name": "stdout",
     "output_type": "stream",
     "text": [
      "ORIGINAL NP1[0 1 2 3 4 5 6 7 8 9]\n",
      "ORIGINAL NP2[0 1 2 3 4 5 6 7 8 9]\n",
      "CHANGED NP1[41  1  2  3  4  5  6  7  8  9]\n",
      "ORIGINAL NP2[41  1  2  3  4  5  6  7  8  9]\n"
     ]
    }
   ],
   "source": [
    "# copy vs view\n",
    "\n",
    "import numpy as np\n",
    "np1 = np.array([0,1,2,3,4,5,6,7,8,9])\n",
    "\n",
    "# Create a VIEW (It's a copy but it's still connected to the original one)\n",
    "np2 = np1.view()\n",
    "\n",
    "print(f'ORIGINAL NP1{np1}')\n",
    "print(f'ORIGINAL NP2{np2}')\n",
    "\n",
    "np1[0] = 41\n",
    "\n",
    "print(f'CHANGED NP1{np1}')\n",
    "print(f'ORIGINAL NP2{np2}')\n"
   ]
  },
  {
   "cell_type": "code",
   "execution_count": 7,
   "id": "52ee647f-b531-43b1-99c5-f28a6fdf3884",
   "metadata": {},
   "outputs": [
    {
     "name": "stdout",
     "output_type": "stream",
     "text": [
      "ORIGINAL NP1[0 1 2 3 4 5 6 7 8 9]\n",
      "ORIGINAL NP2[0 1 2 3 4 5 6 7 8 9]\n",
      "CHANGED NP1[41  1  2  3  4  5  6  7  8  9]\n",
      "ORIGINAL NP2[0 1 2 3 4 5 6 7 8 9]\n"
     ]
    }
   ],
   "source": [
    "np1 = np.array([0,1,2,3,4,5,6,7,8,9])\n",
    "\n",
    "# Create a COPY ()\n",
    "np2 = np1.copy()\n",
    "\n",
    "print(f'ORIGINAL NP1{np1}')\n",
    "print(f'ORIGINAL NP2{np2}')\n",
    "\n",
    "np1[0] = 41\n",
    "\n",
    "print(f'CHANGED NP1{np1}')\n",
    "print(f'ORIGINAL NP2{np2}')"
   ]
  },
  {
   "cell_type": "code",
   "execution_count": null,
   "id": "56be0840-e8de-41d8-b925-33737e801b4b",
   "metadata": {},
   "outputs": [],
   "source": []
  }
 ],
 "metadata": {
  "kernelspec": {
   "display_name": "Python 3 (ipykernel)",
   "language": "python",
   "name": "python3"
  },
  "language_info": {
   "codemirror_mode": {
    "name": "ipython",
    "version": 3
   },
   "file_extension": ".py",
   "mimetype": "text/x-python",
   "name": "python",
   "nbconvert_exporter": "python",
   "pygments_lexer": "ipython3",
   "version": "3.12.4"
  }
 },
 "nbformat": 4,
 "nbformat_minor": 5
}
