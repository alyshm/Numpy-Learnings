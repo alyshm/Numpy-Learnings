{
 "cells": [
  {
   "cell_type": "code",
   "execution_count": 1,
   "id": "f1841b10-30a5-4fc1-971b-39d3019b39c7",
   "metadata": {},
   "outputs": [
    {
     "name": "stdout",
     "output_type": "stream",
     "text": [
      "Requirement already satisfied: numpy in c:\\users\\saad communication\\anaconda3\\lib\\site-packages (1.26.4)Note: you may need to restart the kernel to use updated packages.\n",
      "\n"
     ]
    }
   ],
   "source": [
    "pip install numpy"
   ]
  },
  {
   "cell_type": "code",
   "execution_count": 5,
   "id": "5c407914-2f1b-416d-be6f-e3c2c4b79c23",
   "metadata": {},
   "outputs": [
    {
     "name": "stdout",
     "output_type": "stream",
     "text": [
      "[6 7 5 2 8 3 1 9]\n",
      "[1 2 3 5 6 7 8 9]\n"
     ]
    }
   ],
   "source": [
    "import numpy as np\n",
    "\n",
    "# np.sort()\n",
    "np1 = np.array([6,7,5,2,8,3,1,9])\n",
    "print(np1)\n",
    "print(np.sort(np1))"
   ]
  },
  {
   "cell_type": "code",
   "execution_count": 7,
   "id": "83f03034-0e3a-42eb-bffa-8077ddf34f3e",
   "metadata": {},
   "outputs": [
    {
     "name": "stdout",
     "output_type": "stream",
     "text": [
      "['ali' 'khizer' 'uzair' 'fahad']\n",
      "['ali' 'fahad' 'khizer' 'uzair']\n"
     ]
    }
   ],
   "source": [
    "# Alphabetically\n",
    "np2 = np.array([\"ali\",\"khizer\",\"uzair\",\"fahad\"])\n",
    "print(np2)\n",
    "print(np.sort(np2))"
   ]
  },
  {
   "cell_type": "code",
   "execution_count": 11,
   "id": "dea82bf8-9a15-43cc-882b-e571ef4e2fb9",
   "metadata": {},
   "outputs": [
    {
     "name": "stdout",
     "output_type": "stream",
     "text": [
      "[ True False False  True]\n",
      "[False False  True  True]\n"
     ]
    }
   ],
   "source": [
    "# Boolean T/F\n",
    "np3 = np.array([True,False,False,True])\n",
    "print(np3)\n",
    "print(np.sort(np3))"
   ]
  },
  {
   "cell_type": "code",
   "execution_count": 13,
   "id": "8dd7b820-131b-4e2a-8033-ae86e67f71bb",
   "metadata": {},
   "outputs": [
    {
     "name": "stdout",
     "output_type": "stream",
     "text": [
      "[6 7 5 2 8 3 1 9]\n",
      "[1 2 3 5 6 7 8 9]\n",
      "[6 7 5 2 8 3 1 9]\n"
     ]
    }
   ],
   "source": [
    "# Return a copy don't change the original\n",
    "print(np1)\n",
    "print(np.sort(np1))\n",
    "print(np1)"
   ]
  },
  {
   "cell_type": "code",
   "execution_count": 15,
   "id": "ea97e25d-cbf5-4555-94c1-5cd4709a0fc5",
   "metadata": {},
   "outputs": [
    {
     "name": "stdout",
     "output_type": "stream",
     "text": [
      "[[1 2 3 4 5]\n",
      " [6 7 8 9 0]]\n",
      "[[1 2 3 4 5]\n",
      " [0 6 7 8 9]]\n"
     ]
    }
   ],
   "source": [
    "# 2-D\n",
    "np4 = np.array([[1,2,3,4,5],[6,7,8,9,0]])\n",
    "print(np4)\n",
    "print(np.sort(np4))"
   ]
  },
  {
   "cell_type": "code",
   "execution_count": null,
   "id": "38b1b778-e4df-44c1-b08c-b89f202989c8",
   "metadata": {},
   "outputs": [],
   "source": []
  }
 ],
 "metadata": {
  "kernelspec": {
   "display_name": "Python 3 (ipykernel)",
   "language": "python",
   "name": "python3"
  },
  "language_info": {
   "codemirror_mode": {
    "name": "ipython",
    "version": 3
   },
   "file_extension": ".py",
   "mimetype": "text/x-python",
   "name": "python",
   "nbconvert_exporter": "python",
   "pygments_lexer": "ipython3",
   "version": "3.12.4"
  }
 },
 "nbformat": 4,
 "nbformat_minor": 5
}
