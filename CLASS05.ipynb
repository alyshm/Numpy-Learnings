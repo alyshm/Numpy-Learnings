{
 "cells": [
  {
   "cell_type": "code",
   "execution_count": 1,
   "id": "bc982f5b-ca67-4f83-85a1-7cf003573469",
   "metadata": {},
   "outputs": [
    {
     "name": "stdout",
     "output_type": "stream",
     "text": [
      "Requirement already satisfied: numpy in c:\\users\\saad communication\\anaconda3\\lib\\site-packages (1.26.4)\n",
      "Note: you may need to restart the kernel to use updated packages.\n"
     ]
    }
   ],
   "source": [
    "pip install numpy"
   ]
  },
  {
   "cell_type": "code",
   "execution_count": 1,
   "id": "87664a1d-ee98-4514-bd53-6e6c8e08582d",
   "metadata": {},
   "outputs": [
    {
     "name": "stdout",
     "output_type": "stream",
     "text": [
      "[ 1  2  3  4  5  6  7  8  9 10 11 12]\n",
      "(12,)\n"
     ]
    }
   ],
   "source": [
    "import numpy as np\n",
    "\n",
    "# Creating 1-D Numpy array and get Shape\n",
    "np1 = np.array([1,2,3,4,5,6,7,8,9,10,11,12])\n",
    "print(np1)\n",
    "print(np1.shape)"
   ]
  },
  {
   "cell_type": "code",
   "execution_count": 3,
   "id": "62873fa5-c75d-4eb0-83b8-8b0a6dd8716e",
   "metadata": {},
   "outputs": [
    {
     "name": "stdout",
     "output_type": "stream",
     "text": [
      "[[ 1  2  3  4  5  6]\n",
      " [ 7  8  9 10 11 12]]\n",
      "(2, 6)\n"
     ]
    }
   ],
   "source": [
    "# Creating 2-D Numpy array and get Shape (rows/columns - elements)\n",
    "np2 = np.array([[1,2,3,4,5,6],[7,8,9,10,11,12]])\n",
    "print(np2)\n",
    "print(np2.shape)"
   ]
  },
  {
   "cell_type": "code",
   "execution_count": 13,
   "id": "ac19c795-ce39-45ca-9998-4b6acd8caa8c",
   "metadata": {},
   "outputs": [
    {
     "name": "stdout",
     "output_type": "stream",
     "text": [
      "[[ 1  2  3  4]\n",
      " [ 5  6  7  8]\n",
      " [ 9 10 11 12]]\n",
      "(3, 4)\n"
     ]
    }
   ],
   "source": [
    "# Reshape 2-D array\n",
    "np1 = np.array([1,2,3,4,5,6,7,8,9,10,11,12])\n",
    "np3 = np1.reshape(3,4)\n",
    "print(np3)\n",
    "print(np3.shape)"
   ]
  },
  {
   "cell_type": "code",
   "execution_count": 17,
   "id": "1df1eb5b-5165-44f4-a70c-1779f39f2ca2",
   "metadata": {},
   "outputs": [
    {
     "name": "stdout",
     "output_type": "stream",
     "text": [
      "[[[ 1  2]\n",
      "  [ 3  4]\n",
      "  [ 5  6]]\n",
      "\n",
      " [[ 7  8]\n",
      "  [ 9 10]\n",
      "  [11 12]]]\n",
      "(2, 3, 2)\n"
     ]
    }
   ],
   "source": [
    "# Reshape 3-D array\n",
    "np1 = np.array([1,2,3,4,5,6,7,8,9,10,11,12])\n",
    "np4 = np1.reshape(2,3,2)\n",
    "print(np4)\n",
    "print(np4.shape)"
   ]
  },
  {
   "cell_type": "code",
   "execution_count": 21,
   "id": "a04040d9-17b0-40cb-a60d-febc8c7bf462",
   "metadata": {},
   "outputs": [
    {
     "name": "stdout",
     "output_type": "stream",
     "text": [
      "[ 1  2  3  4  5  6  7  8  9 10 11 12]\n",
      "(12,)\n"
     ]
    }
   ],
   "source": [
    "# Flatten to 1-D\n",
    "np5 = np4.reshape(-1)\n",
    "print(np5)\n",
    "print(np5.shape)"
   ]
  },
  {
   "cell_type": "code",
   "execution_count": null,
   "id": "10cfcc9a-50cc-47ca-a93f-bab78beea4fc",
   "metadata": {},
   "outputs": [],
   "source": []
  }
 ],
 "metadata": {
  "kernelspec": {
   "display_name": "Python 3 (ipykernel)",
   "language": "python",
   "name": "python3"
  },
  "language_info": {
   "codemirror_mode": {
    "name": "ipython",
    "version": 3
   },
   "file_extension": ".py",
   "mimetype": "text/x-python",
   "name": "python",
   "nbconvert_exporter": "python",
   "pygments_lexer": "ipython3",
   "version": "3.12.4"
  }
 },
 "nbformat": 4,
 "nbformat_minor": 5
}
