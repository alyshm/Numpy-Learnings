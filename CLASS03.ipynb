{
 "cells": [
  {
   "cell_type": "code",
   "execution_count": 1,
   "id": "9bd756d8-6b9f-4f62-8c87-4ae8efcb3cb2",
   "metadata": {},
   "outputs": [
    {
     "name": "stdout",
     "output_type": "stream",
     "text": [
      "Requirement already satisfied: numpy in c:\\users\\saad communication\\anaconda3\\lib\\site-packages (1.26.4)\n",
      "Note: you may need to restart the kernel to use updated packages.\n"
     ]
    }
   ],
   "source": [
    "pip install numpy"
   ]
  },
  {
   "cell_type": "code",
   "execution_count": 41,
   "id": "26dff7ea-3de5-469d-90ad-1c9ed6da5651",
   "metadata": {},
   "outputs": [
    {
     "name": "stdout",
     "output_type": "stream",
     "text": [
      "[0 1 2 3 4 5 6 7 8 9]\n",
      "[0.         1.         1.41421356 1.73205081 2.         2.23606798\n",
      " 2.44948974 2.64575131 2.82842712 3.        ]\n",
      "[3 2 1 0 1 2 3 4 5 6 7 8 9]\n",
      "[4.97870684e-02 1.35335283e-01 3.67879441e-01 1.00000000e+00\n",
      " 2.71828183e+00 7.38905610e+00 2.00855369e+01 5.45981500e+01\n",
      " 1.48413159e+02 4.03428793e+02 1.09663316e+03 2.98095799e+03\n",
      " 8.10308393e+03]\n",
      "0\n",
      "9\n",
      "[-1 -1 -1  0  1  1  1  1  1  1  1  1  1]\n",
      "SIN [ 0.          0.84147098  0.90929743  0.14112001 -0.7568025  -0.95892427\n",
      " -0.2794155   0.6569866   0.98935825  0.41211849]\n",
      "COS [ 1.          0.54030231 -0.41614684 -0.9899925  -0.65364362  0.28366219\n",
      "  0.96017029  0.75390225 -0.14550003 -0.91113026]\n",
      "TAN [ 0.          1.55740772 -2.18503986 -0.14254654  1.15782128 -3.38051501\n",
      " -0.29100619  0.87144798 -6.79971146 -0.45231566]\n"
     ]
    }
   ],
   "source": [
    "# NUMPY UNIVERSAL FUNCTION\n",
    "\n",
    "import numpy as np\n",
    "\n",
    "np1 = np.array([0,1,2,3,4,5,6,7,8,9])\n",
    "print(np1)\n",
    "\n",
    "# Square route of each element\n",
    "print(np.sqrt(np1))\n",
    "\n",
    "# Absolute value\n",
    "np2 = np.array([-3,-2,-1,0,1,2,3,4,5,6,7,8,9])\n",
    "print(np.absolute(np2))\n",
    "\n",
    "# Exponents\n",
    "print(np.exp(np2))\n",
    "\n",
    "# Min/Max\n",
    "print(np.min(np1))\n",
    "print(np.max(np1))\n",
    "\n",
    "# Sign Positive or Negative\n",
    "print(np.sign(np2))\n",
    "\n",
    "# Trig Sin Cos Log\n",
    "print(\"SIN\",np.sin(np1))\n",
    "print(\"COS\",np.cos(np1))\n",
    "print(\"TAN\",np.tan(np1))\n"
   ]
  },
  {
   "cell_type": "code",
   "execution_count": null,
   "id": "d495a289-1456-4948-a9b8-16633c58ad60",
   "metadata": {},
   "outputs": [],
   "source": []
  }
 ],
 "metadata": {
  "kernelspec": {
   "display_name": "Python 3 (ipykernel)",
   "language": "python",
   "name": "python3"
  },
  "language_info": {
   "codemirror_mode": {
    "name": "ipython",
    "version": 3
   },
   "file_extension": ".py",
   "mimetype": "text/x-python",
   "name": "python",
   "nbconvert_exporter": "python",
   "pygments_lexer": "ipython3",
   "version": "3.12.4"
  }
 },
 "nbformat": 4,
 "nbformat_minor": 5
}
