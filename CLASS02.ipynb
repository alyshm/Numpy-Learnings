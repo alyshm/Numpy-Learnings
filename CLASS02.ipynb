{
 "cells": [
  {
   "cell_type": "code",
   "execution_count": 3,
   "id": "e25edb21-0851-406b-bd56-8c2e4766cdc7",
   "metadata": {},
   "outputs": [
    {
     "name": "stdout",
     "output_type": "stream",
     "text": [
      "Requirement already satisfied: numpy in c:\\users\\saad communication\\anaconda3\\lib\\site-packages (1.26.4)Note: you may need to restart the kernel to use updated packages.\n",
      "\n"
     ]
    }
   ],
   "source": [
    "pip install numpy"
   ]
  },
  {
   "cell_type": "code",
   "execution_count": 60,
   "id": "07267b7c-4719-42ae-92dd-5763a6d7cee9",
   "metadata": {},
   "outputs": [
    {
     "name": "stdout",
     "output_type": "stream",
     "text": [
      "[4 5 6 7 8]\n",
      "[4 5 6 7 8 9]\n",
      "[7 8]\n",
      "[1 3 5 7 9]\n",
      "[1 4 7]\n",
      "[2 3 4 5]\n",
      "[2 4]\n"
     ]
    }
   ],
   "source": [
    "# Slicing numpy arrays\n",
    "\n",
    "import numpy as np\n",
    "\n",
    "np1 = np.array([1,2,3,4,5,6,7,8,9])\n",
    "\n",
    "# return 4,5,6,7,8\n",
    "print(np1[3:8])\n",
    "\n",
    "# returning something till the end of the array\n",
    "print(np1[3:])\n",
    "\n",
    "# return negative (this print the array from the last like in this array)\n",
    "# ([1,2,3,4,5,6,7,8,9])\n",
    "# It starts 9 as -1, 8 as -2 and so on...\n",
    "print(np1[-3:-1])\n",
    "\n",
    "# steps on the entire array\n",
    "print(np1[::2]) #steps of 2\n",
    "print(np1[::3]) #steps of 3\n",
    "\n",
    "# steps\n",
    "print(np1[1:5]) # 2-5\n",
    "print(np1[1:5:2]) # 2-5 in steps in 2"
   ]
  },
  {
   "cell_type": "code",
   "execution_count": 56,
   "id": "01ccfd98-eac6-43d9-9532-5b0f178a41e4",
   "metadata": {},
   "outputs": [
    {
     "name": "stdout",
     "output_type": "stream",
     "text": [
      "9\n",
      "[[3 4]]\n",
      "[[3 4]\n",
      " [8 9]]\n"
     ]
    }
   ],
   "source": [
    "# Slicing 2-d array\n",
    "np2 = np.array([\n",
    "    [1,2,3,4,5], \n",
    "    [6,7,8,9,10]])\n",
    "\n",
    "# pull out a single item\n",
    "print(np2[1,3])\n",
    "\n",
    "# slice A 2d array\n",
    "print(np2[0:1, 2:4]) #prints [3 4]\n",
    "\n",
    "# slice from both rows\n",
    "print(np2[0:2, 2:4])"
   ]
  },
  {
   "cell_type": "code",
   "execution_count": null,
   "id": "6fde8251-6030-4db2-a221-68d48d4bad95",
   "metadata": {},
   "outputs": [],
   "source": []
  }
 ],
 "metadata": {
  "kernelspec": {
   "display_name": "Python 3 (ipykernel)",
   "language": "python",
   "name": "python3"
  },
  "language_info": {
   "codemirror_mode": {
    "name": "ipython",
    "version": 3
   },
   "file_extension": ".py",
   "mimetype": "text/x-python",
   "name": "python",
   "nbconvert_exporter": "python",
   "pygments_lexer": "ipython3",
   "version": "3.12.4"
  }
 },
 "nbformat": 4,
 "nbformat_minor": 5
}
