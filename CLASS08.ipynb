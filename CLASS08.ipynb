{
 "cells": [
  {
   "cell_type": "code",
   "execution_count": 1,
   "id": "e9da1a78-811b-4651-8244-77da61cfc338",
   "metadata": {},
   "outputs": [
    {
     "name": "stdout",
     "output_type": "stream",
     "text": [
      "Requirement already satisfied: numpy in c:\\users\\saad communication\\anaconda3\\lib\\site-packages (1.26.4)\n",
      "Note: you may need to restart the kernel to use updated packages.\n"
     ]
    }
   ],
   "source": [
    "pip install numpy"
   ]
  },
  {
   "cell_type": "code",
   "execution_count": 21,
   "id": "e979b8a1-7b84-420b-96af-d1966a2a7227",
   "metadata": {},
   "outputs": [
    {
     "name": "stdout",
     "output_type": "stream",
     "text": [
      "[1 2 3 4 5 6 7 8 9 2 3]\n",
      "(array([ 2, 10], dtype=int64),)\n",
      "[1 2 3 4 5 6 7 8 9 2 3]\n",
      "EVEN NUMS: (array([1, 3, 5, 7, 9], dtype=int64),)\n",
      "[1 2 3 4 5 6 7 8 9 2 3]\n",
      "ODD NUMS: (array([ 0,  2,  4,  6,  8, 10], dtype=int64),)\n"
     ]
    }
   ],
   "source": [
    "import numpy as np\n",
    "\n",
    "# Search (where function)\n",
    "np1 = np.array([1,2,3,4,5,6,7,8,9,2,3])\n",
    "x = np.where(np1 == 3)\n",
    "print(np1)\n",
    "print(x)\n",
    "\n",
    "# To find even numbers\n",
    "y = np.where(np1 % 2 == 0)\n",
    "print(np1)\n",
    "print(f'EVEN NUMS: {y}')\n",
    "\n",
    "# To find odd numbers\n",
    "z = np.where(np1 % 2 == 1)\n",
    "print(np1)\n",
    "print(f'ODD NUMS: {z}')"
   ]
  },
  {
   "cell_type": "code",
   "execution_count": null,
   "id": "5db6a935-c2f0-4265-85c3-af55a7e83f9b",
   "metadata": {},
   "outputs": [],
   "source": []
  }
 ],
 "metadata": {
  "kernelspec": {
   "display_name": "Python 3 (ipykernel)",
   "language": "python",
   "name": "python3"
  },
  "language_info": {
   "codemirror_mode": {
    "name": "ipython",
    "version": 3
   },
   "file_extension": ".py",
   "mimetype": "text/x-python",
   "name": "python",
   "nbconvert_exporter": "python",
   "pygments_lexer": "ipython3",
   "version": "3.12.4"
  }
 },
 "nbformat": 4,
 "nbformat_minor": 5
}
